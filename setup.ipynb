{
 "cells": [
  {
   "cell_type": "markdown",
   "metadata": {},
   "source": [
    "# Local setup"
   ]
  },
  {
   "cell_type": "markdown",
   "metadata": {},
   "source": [
    "##  Required packages\n",
    "\n",
    "- Anaconda\n",
    "  - `conda install -c conda-forge nltk`\n",
    "  - `conda install -c conda-forge emoji`"
   ]
  },
  {
   "cell_type": "markdown",
   "metadata": {},
   "source": [
    "## Required modules (commands below)\n",
    "\n",
    "- **punkt**, a pre-trained model for tokenizing, good for punctuations. http://www.nltk.org/api/nltk.tokenize.html?highlight=punkt\n",
    "- **wordnet**, a lexical database used to determine base words. (stemming) https://www.nltk.org/api/nltk.corpus.reader.html#module-nltk.corpus.reader.wordnet\n",
    "- **averaged_perceptron_tagger**, used in conjunction with others to tag words of their part of speech (noun, verb, etc)\n",
    "- **stopwords**, used in conjunction with others to remove filler words. https://www.nltk.org/book/ch02.html#wordlist-corpora"
   ]
  },
  {
   "cell_type": "code",
   "execution_count": null,
   "metadata": {},
   "outputs": [],
   "source": [
    "import nltk\n",
    "nltk.download('punkt')\n",
    "nltk.download('wordnet')\n",
    "nltk.download('averaged_perceptron_tagger')\n",
    "nltk.download('stopwords')"
   ]
  }
 ],
 "metadata": {
  "language_info": {
   "codemirror_mode": {
    "name": "ipython",
    "version": 3
   },
   "file_extension": ".py",
   "mimetype": "text/x-python",
   "name": "python",
   "nbconvert_exporter": "python",
   "pygments_lexer": "ipython3",
   "version": "3.7.6-final"
  },
  "orig_nbformat": 2,
  "kernelspec": {
   "name": "python3",
   "display_name": "Python 3"
  }
 },
 "nbformat": 4,
 "nbformat_minor": 2
}